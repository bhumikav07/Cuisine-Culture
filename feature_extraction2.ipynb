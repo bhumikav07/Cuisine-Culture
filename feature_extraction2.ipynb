{
 "cells": [
  {
   "cell_type": "code",
   "execution_count": 1,
   "metadata": {},
   "outputs": [],
   "source": [
    "import numpy as np\n",
    "from sklearn.feature_extraction.text import CountVectorizer\n",
    "from database_operations import *"
   ]
  },
  {
   "cell_type": "code",
   "execution_count": 2,
   "metadata": {},
   "outputs": [],
   "source": [
    "ingredients = get_ingredient_details()\n",
    "ingredient_name = [i[1] for i in ingredients]\n",
    "vectorizer = CountVectorizer()\n",
    "X = vectorizer.fit_transform(ingredient_name)\n",
    "vocab = vectorizer.vocabulary_"
   ]
  },
  {
   "cell_type": "code",
   "execution_count": 5,
   "metadata": {},
   "outputs": [],
   "source": [
    "food_details = get_food_details(ingredients=True)\n",
    "feature_vector = []\n",
    "feature_map_dict = {}\n",
    "i = 0\n",
    "for each_food in food_details:\n",
    "    vector = [i[2] for i in each_food[-1]]\n",
    "    v1 = vectorizer.transform(vector)\n",
    "    v1 = np.array(np.sum(v1, axis = 0))\n",
    "    v1 = v1.ravel()\n",
    "    feature_vector.append(v1)\n",
    "    feature_map_dict[each_food[0]] = i\n",
    "    i += 1"
   ]
  },
  {
   "cell_type": "code",
   "execution_count": 6,
   "metadata": {},
   "outputs": [
    {
     "data": {
      "text/plain": [
       "1388"
      ]
     },
     "execution_count": 6,
     "metadata": {},
     "output_type": "execute_result"
    }
   ],
   "source": [
    "len(feature_vector)"
   ]
  },
  {
   "cell_type": "code",
   "execution_count": null,
   "metadata": {},
   "outputs": [],
   "source": []
  }
 ],
 "metadata": {
  "kernelspec": {
   "display_name": "Python 3",
   "language": "python",
   "name": "python3"
  },
  "language_info": {
   "codemirror_mode": {
    "name": "ipython",
    "version": 3
   },
   "file_extension": ".py",
   "mimetype": "text/x-python",
   "name": "python",
   "nbconvert_exporter": "python",
   "pygments_lexer": "ipython3",
   "version": "3.7.4"
  }
 },
 "nbformat": 4,
 "nbformat_minor": 2
}
